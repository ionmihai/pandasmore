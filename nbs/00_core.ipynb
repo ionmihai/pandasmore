{
 "cells": [
  {
   "attachments": {},
   "cell_type": "markdown",
   "metadata": {},
   "source": [
    "# core\n",
    "\n",
    "> Fill in a module description here"
   ]
  },
  {
   "cell_type": "code",
   "execution_count": null,
   "metadata": {},
   "outputs": [],
   "source": [
    "#| default_exp core"
   ]
  },
  {
   "cell_type": "code",
   "execution_count": null,
   "metadata": {},
   "outputs": [],
   "source": [
    "#| hide\n",
    "from nbdev.showdoc import *"
   ]
  },
  {
   "cell_type": "code",
   "execution_count": null,
   "metadata": {},
   "outputs": [],
   "source": [
    "#|exports\n",
    "from __future__ import annotations\n",
    "import pandas as pd\n",
    "import numpy as np"
   ]
  },
  {
   "attachments": {},
   "cell_type": "markdown",
   "metadata": {},
   "source": [
    "First, we set up an example dataset to showcase the functions in this module."
   ]
  },
  {
   "cell_type": "code",
   "execution_count": null,
   "metadata": {},
   "outputs": [
    {
     "data": {
      "text/html": [
       "<div>\n",
       "<style scoped>\n",
       "    .dataframe tbody tr th:only-of-type {\n",
       "        vertical-align: middle;\n",
       "    }\n",
       "\n",
       "    .dataframe tbody tr th {\n",
       "        vertical-align: top;\n",
       "    }\n",
       "\n",
       "    .dataframe thead th {\n",
       "        text-align: right;\n",
       "    }\n",
       "</style>\n",
       "<table border=\"1\" class=\"dataframe\">\n",
       "  <thead>\n",
       "    <tr style=\"text-align: right;\">\n",
       "      <th></th>\n",
       "      <th></th>\n",
       "      <th>A</th>\n",
       "      <th>B</th>\n",
       "    </tr>\n",
       "    <tr>\n",
       "      <th>permno</th>\n",
       "      <th>Mdate</th>\n",
       "      <th></th>\n",
       "      <th></th>\n",
       "    </tr>\n",
       "  </thead>\n",
       "  <tbody>\n",
       "    <tr>\n",
       "      <th rowspan=\"4\" valign=\"top\">1</th>\n",
       "      <th>2010-01</th>\n",
       "      <td>0.555742</td>\n",
       "      <td>0.941069</td>\n",
       "    </tr>\n",
       "    <tr>\n",
       "      <th>2010-02</th>\n",
       "      <td>0.623244</td>\n",
       "      <td>0.047846</td>\n",
       "    </tr>\n",
       "    <tr>\n",
       "      <th>2010-02</th>\n",
       "      <td>0.879142</td>\n",
       "      <td>0.531396</td>\n",
       "    </tr>\n",
       "    <tr>\n",
       "      <th>2010-04</th>\n",
       "      <td>0.160305</td>\n",
       "      <td>0.790609</td>\n",
       "    </tr>\n",
       "    <tr>\n",
       "      <th rowspan=\"4\" valign=\"top\">2</th>\n",
       "      <th>2010-01</th>\n",
       "      <td>0.091188</td>\n",
       "      <td>0.128479</td>\n",
       "    </tr>\n",
       "    <tr>\n",
       "      <th>2010-02</th>\n",
       "      <td>0.588596</td>\n",
       "      <td>0.320304</td>\n",
       "    </tr>\n",
       "    <tr>\n",
       "      <th>2010-02</th>\n",
       "      <td>0.389166</td>\n",
       "      <td>0.204890</td>\n",
       "    </tr>\n",
       "    <tr>\n",
       "      <th>2010-04</th>\n",
       "      <td>0.239609</td>\n",
       "      <td>0.105904</td>\n",
       "    </tr>\n",
       "  </tbody>\n",
       "</table>\n",
       "</div>"
      ],
      "text/plain": [
       "                       A         B\n",
       "permno Mdate                      \n",
       "1      2010-01  0.555742  0.941069\n",
       "       2010-02  0.623244  0.047846\n",
       "       2010-02  0.879142  0.531396\n",
       "       2010-04  0.160305  0.790609\n",
       "2      2010-01  0.091188  0.128479\n",
       "       2010-02  0.588596  0.320304\n",
       "       2010-02  0.389166  0.204890\n",
       "       2010-04  0.239609  0.105904"
      ]
     },
     "execution_count": null,
     "metadata": {},
     "output_type": "execute_result"
    }
   ],
   "source": [
    "df = pd.DataFrame(np.random.rand(8,2), \n",
    "                  columns=list('AB'), \n",
    "                  index=pd.MultiIndex.from_product(\n",
    "                      [[1,2],\n",
    "                       pd.to_datetime(['2010-01','2010-02','2010-02','2010-04']\n",
    "                                      ).to_period('M')],\n",
    "                      names=['permno','Mdate']))\n",
    "df"
   ]
  },
  {
   "attachments": {},
   "cell_type": "markdown",
   "metadata": {},
   "source": [
    "### Robust lagging"
   ]
  },
  {
   "attachments": {},
   "cell_type": "markdown",
   "metadata": {},
   "source": [
    "Note how `shift` fails when we have (1) panel data, (2) duplicate dates, or (3) gaps in the time-series"
   ]
  },
  {
   "cell_type": "code",
   "execution_count": null,
   "metadata": {},
   "outputs": [
    {
     "data": {
      "text/html": [
       "<div>\n",
       "<style scoped>\n",
       "    .dataframe tbody tr th:only-of-type {\n",
       "        vertical-align: middle;\n",
       "    }\n",
       "\n",
       "    .dataframe tbody tr th {\n",
       "        vertical-align: top;\n",
       "    }\n",
       "\n",
       "    .dataframe thead th {\n",
       "        text-align: right;\n",
       "    }\n",
       "</style>\n",
       "<table border=\"1\" class=\"dataframe\">\n",
       "  <thead>\n",
       "    <tr style=\"text-align: right;\">\n",
       "      <th></th>\n",
       "      <th></th>\n",
       "      <th>A</th>\n",
       "      <th>B</th>\n",
       "    </tr>\n",
       "    <tr>\n",
       "      <th>permno</th>\n",
       "      <th>Mdate</th>\n",
       "      <th></th>\n",
       "      <th></th>\n",
       "    </tr>\n",
       "  </thead>\n",
       "  <tbody>\n",
       "    <tr>\n",
       "      <th rowspan=\"4\" valign=\"top\">1</th>\n",
       "      <th>2010-01</th>\n",
       "      <td>NaN</td>\n",
       "      <td>NaN</td>\n",
       "    </tr>\n",
       "    <tr>\n",
       "      <th>2010-02</th>\n",
       "      <td>0.555742</td>\n",
       "      <td>0.941069</td>\n",
       "    </tr>\n",
       "    <tr>\n",
       "      <th>2010-02</th>\n",
       "      <td>0.623244</td>\n",
       "      <td>0.047846</td>\n",
       "    </tr>\n",
       "    <tr>\n",
       "      <th>2010-04</th>\n",
       "      <td>0.879142</td>\n",
       "      <td>0.531396</td>\n",
       "    </tr>\n",
       "    <tr>\n",
       "      <th rowspan=\"4\" valign=\"top\">2</th>\n",
       "      <th>2010-01</th>\n",
       "      <td>0.160305</td>\n",
       "      <td>0.790609</td>\n",
       "    </tr>\n",
       "    <tr>\n",
       "      <th>2010-02</th>\n",
       "      <td>0.091188</td>\n",
       "      <td>0.128479</td>\n",
       "    </tr>\n",
       "    <tr>\n",
       "      <th>2010-02</th>\n",
       "      <td>0.588596</td>\n",
       "      <td>0.320304</td>\n",
       "    </tr>\n",
       "    <tr>\n",
       "      <th>2010-04</th>\n",
       "      <td>0.389166</td>\n",
       "      <td>0.204890</td>\n",
       "    </tr>\n",
       "  </tbody>\n",
       "</table>\n",
       "</div>"
      ],
      "text/plain": [
       "                       A         B\n",
       "permno Mdate                      \n",
       "1      2010-01       NaN       NaN\n",
       "       2010-02  0.555742  0.941069\n",
       "       2010-02  0.623244  0.047846\n",
       "       2010-04  0.879142  0.531396\n",
       "2      2010-01  0.160305  0.790609\n",
       "       2010-02  0.091188  0.128479\n",
       "       2010-02  0.588596  0.320304\n",
       "       2010-04  0.389166  0.204890"
      ]
     },
     "execution_count": null,
     "metadata": {},
     "output_type": "execute_result"
    }
   ],
   "source": [
    "df.shift()"
   ]
  },
  {
   "cell_type": "code",
   "execution_count": null,
   "metadata": {},
   "outputs": [],
   "source": [
    "#|export\n",
    "def fast_lag(df: pd.Series|pd.DataFrame, # Index (or level 1 of MultiIndex) must be period date\n",
    "        n: int=1, # Number of periods to lag based on frequency of df.index; Negative values means lead.\n",
    "        ) -> pd.Series: # Series with lagged values; Name is taken from `df`, with _lag{n} or _lead{n} added\n",
    "    \"\"\"Lag data in 'df' by 'n' periods. \n",
    "    ASSUMES DATA SORTED BY DATES AND NO DUPLICATE OR MISSING DATES.\"\"\"\n",
    "\n",
    "    if isinstance(df,pd.Series): df = df.to_frame()\n",
    "    if len(df.columns) > 1: raise ValueError(\"<df> must have a single column\")\n",
    "    dfl = df.copy()\n",
    "    old_name = str(df.columns[0])\n",
    "    new_varname = old_name + f'_lag{n}' if n>=0 else old_name + f'_lead{-n}'\n",
    "    \n",
    "    if isinstance(df.index, pd.MultiIndex):\n",
    "        if f'{df.index.levels[1].dtype}'.startswith('period'):\n",
    "            (panelvar, timevar) = dfl.index.names\n",
    "            dfl = dfl.reset_index()\n",
    "            dfl[['lag_panel','lag_time',new_varname]] = dfl[[panelvar, timevar, old_name]].shift(n)\n",
    "            dfl[new_varname] = np.where((dfl[panelvar]==dfl['lag_panel']) & (dfl[timevar]==dfl['lag_time']+n),\n",
    "                                        dfl[new_varname], np.nan)\n",
    "            dfl = dfl.set_index([panelvar, timevar])\n",
    "        else:\n",
    "            raise ValueError('Dimension 1 of multiindex must be period date')\n",
    "    else:\n",
    "        if f'{df.index.dtype}'.startswith('period'):\n",
    "            timevar = dfl.index.name\n",
    "            dfl = dfl.reset_index()\n",
    "            dfl[['lag_time',new_varname]] = dfl[[timevar, old_name]].shift(n)\n",
    "            dfl[new_varname] = np.where((dfl[timevar]==dfl['lag_time']+n),\n",
    "                                        dfl[new_varname], np.nan)\n",
    "            dfl = dfl.set_index([timevar])\n",
    "        else:\n",
    "            raise ValueError('Index must be period date')\n",
    "    return dfl[new_varname].squeeze()"
   ]
  },
  {
   "cell_type": "code",
   "execution_count": null,
   "metadata": {},
   "outputs": [],
   "source": [
    "#|export\n",
    "def lag(df: pd.Series|pd.DataFrame, # Index (or level 1 of MultiIndex) must be period date with no missing values.\n",
    "        n: int=1, # Number of periods to lag based on frequency of df.index; Negative values means lead.\n",
    "        fast: bool=True, # Assumes data is sorted by date and no duplicate or missing dates\n",
    "        ) -> pd.Series: # Series with lagged values; Name is taken from `df`, with _lag{n} or _lead{n} added\n",
    "    \"\"\"Lag data in 'df' by 'n' periods.\"\"\"\n",
    "\n",
    "    if fast: return fast_lag(df,n)\n",
    "\n",
    "    if isinstance(df,pd.Series): df = df.to_frame()\n",
    "    if len(df.columns) > 1: raise ValueError(\"'df' parameter must have a single column\")\n",
    "    dfl = df.copy()\n",
    "    dfl.columns = [str(df.columns[0]) + f'_lag{n}'] if n>=0 else df.columns + f'_lead{-n}'\n",
    "\n",
    "    if isinstance(df.index, pd.MultiIndex):\n",
    "        if f'{df.index.levels[1].dtype}'.startswith('period'):\n",
    "            dfl.index = dfl.index.set_levels(df.index.levels[1]+n, level=1)\n",
    "        else:\n",
    "            raise ValueError('Dimension 1 of multiindex must be period date')\n",
    "    else:\n",
    "        if f'{df.index.dtype}'.startswith('period'):\n",
    "            dfl.index += n\n",
    "        else:\n",
    "            raise ValueError('Index must be period date')\n",
    "\n",
    "    dfl = df.join(dfl).drop(columns=df.columns)\n",
    "    return dfl.squeeze()"
   ]
  },
  {
   "attachments": {},
   "cell_type": "markdown",
   "metadata": {},
   "source": [
    "The index of the `df` parameter can not contain missing values."
   ]
  },
  {
   "cell_type": "code",
   "execution_count": null,
   "metadata": {},
   "outputs": [
    {
     "data": {
      "text/plain": [
       "permno  Mdate  \n",
       "1       2010-01         NaN\n",
       "        2010-02    0.555742\n",
       "        2010-02         NaN\n",
       "        2010-04         NaN\n",
       "2       2010-01         NaN\n",
       "        2010-02    0.091188\n",
       "        2010-02         NaN\n",
       "        2010-04         NaN\n",
       "Name: A_lag1, dtype: float64"
      ]
     },
     "execution_count": null,
     "metadata": {},
     "output_type": "execute_result"
    }
   ],
   "source": [
    "lag(df['A'])"
   ]
  },
  {
   "cell_type": "code",
   "execution_count": null,
   "metadata": {},
   "outputs": [
    {
     "data": {
      "text/plain": [
       "permno  Mdate  \n",
       "1       2010-01         NaN\n",
       "        2010-02    0.555742\n",
       "        2010-02    0.555742\n",
       "        2010-04         NaN\n",
       "2       2010-01         NaN\n",
       "        2010-02    0.091188\n",
       "        2010-02    0.091188\n",
       "        2010-04         NaN\n",
       "Name: A_lag1, dtype: float64"
      ]
     },
     "execution_count": null,
     "metadata": {},
     "output_type": "execute_result"
    }
   ],
   "source": [
    "lag(df['A'],fast=False)"
   ]
  },
  {
   "cell_type": "code",
   "execution_count": null,
   "metadata": {},
   "outputs": [],
   "source": [
    "#| hide\n",
    "import nbdev; nbdev.nbdev_export()"
   ]
  }
 ],
 "metadata": {
  "kernelspec": {
   "display_name": "python3",
   "language": "python",
   "name": "python3"
  }
 },
 "nbformat": 4,
 "nbformat_minor": 4
}
